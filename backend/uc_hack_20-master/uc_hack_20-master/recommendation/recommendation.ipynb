{
 "cells": [
  {
   "cell_type": "code",
   "execution_count": 5,
   "metadata": {},
   "outputs": [
    {
     "name": "stdout",
     "output_type": "stream",
     "text": [
      "['#ffffff', '#fffffe', '#fffffd', '#feffff', '#fefefe', '#fffffc', '#fffeff', '#fdfdfd', '#fffffb', '#fffffa']\n"
     ]
    }
   ],
   "source": [
    "import math\n",
    "from PIL import Image\n",
    "\n",
    "def get_colors(image_path, num_colors):\n",
    "    # Open the image and resize it to speed up processing\n",
    "    image = Image.open(image_path)\n",
    "    image = image.resize((200, 200))\n",
    "\n",
    "    # Get the colors from the image\n",
    "    colors = image.getcolors(200 * 200)\n",
    "    colors = sorted(colors, key=lambda t: t[0], reverse=True)\n",
    "\n",
    "    # Get the top 10 most frequent colors\n",
    "    top_colors = [color[1] for color in colors[:10]]\n",
    "\n",
    "    # Convert the colors to their hexadecimal representation\n",
    "    def rgb_to_hex(rgb):\n",
    "        return f'#{rgb[0]:02x}{rgb[1]:02x}{rgb[2]:02x}'\n",
    "\n",
    "    hex_colors = [rgb_to_hex(color) for color in top_colors]\n",
    "\n",
    "    return hex_colors\n",
    "\n",
    "# Example usage\n",
    "hex_colors = get_colors('living_994.jpg', 10)\n",
    "print(hex_colors)\n"
   ]
  },
  {
   "cell_type": "code",
   "execution_count": 6,
   "metadata": {},
   "outputs": [
    {
     "name": "stdout",
     "output_type": "stream",
     "text": [
      "['#9c9588', '#fefff7', '#9b9580', '#9a9598', '#b5b193', '#38241e', '#4d4142', '#95897a', '#65514a', '#41251a']\n"
     ]
    }
   ],
   "source": [
    "import math\n",
    "from PIL import Image\n",
    "\n",
    "def get_colors(image_path, num_colors):\n",
    "    # Open the image and resize it to speed up processing\n",
    "    image = Image.open(image_path)\n",
    "    image = image.resize((200, 200))\n",
    "\n",
    "    # Get the colors from the image\n",
    "    colors = image.getcolors(200 * 200)\n",
    "    colors = sorted(colors, key=lambda t: t[0], reverse=False)\n",
    "\n",
    "    # Get the top 10 most frequent colors\n",
    "    top_colors = [color[1] for color in colors[:10]]\n",
    "\n",
    "    # Convert the colors to their hexadecimal representation\n",
    "    def rgb_to_hex(rgb):\n",
    "        return f'#{rgb[0]:02x}{rgb[1]:02x}{rgb[2]:02x}'\n",
    "\n",
    "    hex_colors = [rgb_to_hex(color) for color in top_colors]\n",
    "\n",
    "    return hex_colors\n",
    "\n",
    "# Example usage\n",
    "hex_colors = get_colors('living_994.jpg', 10)\n",
    "print(hex_colors)\n"
   ]
  },
  {
   "cell_type": "code",
   "execution_count": 7,
   "metadata": {},
   "outputs": [
    {
     "data": {
      "text/plain": [
       "True"
      ]
     },
     "execution_count": 7,
     "metadata": {},
     "output_type": "execute_result"
    }
   ],
   "source": [
    "import cv2\n",
    "import urllib.request\n",
    "import numpy as np\n",
    "# URL of the image\n",
    "url = \"https://firebasestorage.googleapis.com/v0/b/codeshastra-tech-turtles.appspot.com/o/files%2FWhatsApp%20Image%202022-09-09%20at%2010.48.30%20AM.jpeg?alt=media&token=ba6ac7a1-d4fe-4a1d-8794-ad00c5940576\"\n",
    "\n",
    "# Read the image from the URL\n",
    "with urllib.request.urlopen(url) as url_response:\n",
    "    img_array = np.asarray(bytearray(url_response.read()), dtype=np.uint8)\n",
    "    img = cv2.imdecode(img_array, cv2.IMREAD_COLOR)\n",
    "\n",
    "# Save the image to your device\n",
    "cv2.imwrite(\"saved_image.jpg\", img)\n"
   ]
  },
  {
   "cell_type": "code",
   "execution_count": null,
   "metadata": {},
   "outputs": [],
   "source": []
  }
 ],
 "metadata": {
  "kernelspec": {
   "display_name": "Python 3",
   "language": "python",
   "name": "python3"
  },
  "language_info": {
   "codemirror_mode": {
    "name": "ipython",
    "version": 3
   },
   "file_extension": ".py",
   "mimetype": "text/x-python",
   "name": "python",
   "nbconvert_exporter": "python",
   "pygments_lexer": "ipython3",
   "version": "3.9.13"
  },
  "orig_nbformat": 4
 },
 "nbformat": 4,
 "nbformat_minor": 2
}
